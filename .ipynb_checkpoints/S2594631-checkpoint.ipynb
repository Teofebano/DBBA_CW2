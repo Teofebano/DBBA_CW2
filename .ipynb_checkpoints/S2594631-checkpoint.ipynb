{
 "cells": [
  {
   "cell_type": "markdown",
   "id": "c987a556",
   "metadata": {},
   "source": [
    "# Library"
   ]
  },
  {
   "cell_type": "code",
   "execution_count": 9,
   "id": "ed04ede0",
   "metadata": {},
   "outputs": [
    {
     "name": "stdout",
     "output_type": "stream",
     "text": [
      "Note: you may need to restart the kernel to use updated packages.\n"
     ]
    }
   ],
   "source": [
    "# Installation\n",
    "%pip install --quiet mesa"
   ]
  },
  {
   "cell_type": "code",
   "execution_count": 10,
   "id": "e8b21fe8",
   "metadata": {},
   "outputs": [],
   "source": [
    "# Import\n",
    "import mesa\n",
    "import numpy as np\n",
    "import pandas as pd\n",
    "\n",
    "import math"
   ]
  },
  {
   "cell_type": "markdown",
   "id": "47ad6c2c",
   "metadata": {},
   "source": [
    "# Helper Functions"
   ]
  },
  {
   "cell_type": "code",
   "execution_count": 11,
   "id": "4f77d626",
   "metadata": {},
   "outputs": [],
   "source": []
  },
  {
   "cell_type": "code",
   "execution_count": 12,
   "id": "d16f8680",
   "metadata": {},
   "outputs": [],
   "source": []
  },
  {
   "cell_type": "code",
   "execution_count": null,
   "id": "cb6cdce9",
   "metadata": {},
   "outputs": [],
   "source": []
  },
  {
   "cell_type": "code",
   "execution_count": null,
   "id": "31fbeee3",
   "metadata": {},
   "outputs": [],
   "source": []
  },
  {
   "cell_type": "markdown",
   "id": "3497b1c4",
   "metadata": {},
   "source": [
    "# Class Definition"
   ]
  },
  {
   "cell_type": "markdown",
   "id": "6cd06834",
   "metadata": {},
   "source": [
    "## Agent"
   ]
  },
  {
   "cell_type": "code",
   "execution_count": 13,
   "id": "86ba44a2",
   "metadata": {},
   "outputs": [],
   "source": [
    "class ChartistAgent(mesa.Agent):\n",
    "    def __init__(self, id, model, fiat_owned, bitcoin_owned, n):\n",
    "        super().__init__(id, model)\n",
    "\n",
    "        # Attribute Initialization         \n",
    "        self.fiat = fiat_owned\n",
    "        self.bitcoin = bitcoin_owned\n",
    "        self.is_open = False\n",
    "        self.n = n\n",
    "    \n",
    "    def step(self):\n",
    "        if self.is_open:\n",
    "            print(f'potential sell for {self.unique_id}')\n",
    "            filtering_value = calculate_avg_n_days(self.model.price_history, n)\n",
    "            print(f'{filtering_value} vs {self.model.today_price}')\n",
    "\n",
    "            if (filtering_value < self.model.today_price):\n",
    "                self.is_open = False\n",
    "                \n",
    "                if self.bitcoin > 0:\n",
    "                    price = self.model.today_price\n",
    "\n",
    "                    self.bitcoin -= 1\n",
    "                    self.fiat += price\n",
    "                    \n",
    "                    self.model.today_volume -= 1\n",
    "                    print(f'{self.unique_id} : fiat {self.fiat} bitcoin {self.bitcoin}')\n",
    "        else:\n",
    "            print(f'potential buy for {self.unique_id}')\n",
    "            filtering_value = calculate_avg_n_days(self.model.price_history, n)\n",
    "            print(f'{filtering_value} vs {self.model.today_price}')\n",
    "\n",
    "            if (filtering_value > self.model.today_price):\n",
    "                self.is_open = True\n",
    "                \n",
    "                if self.fiat > 0:\n",
    "                    price = self.model.today_price\n",
    "\n",
    "                    self.bitcoin += 1\n",
    "                    self.fiat -= price\n",
    "                    \n",
    "                    self.model.today_volume += 1\n",
    "                    print(f'{self.unique_id} : fiat {self.fiat} bitcoin {self.bitcoin}')\n",
    "                    \n",
    "    # Agent Helper Function\n",
    "    # Filtering Rule\n",
    "    def calculate_avg_n_days(price_history, n):\n",
    "        start_index = max(0, len(price_history) - n)\n",
    "        window = price_history[start_index:len(price_history)]\n",
    "\n",
    "        return sum(window) / len(window)\n",
    "\n",
    "    # EMA Rule\n",
    "    def calculate_ema_n_days_manual(price_history, n):\n",
    "        smooth_factor = 2 / (n + 1)\n",
    "        ema = [price_history[0]]\n",
    "\n",
    "        for i in range(1, len(price_history)):\n",
    "            value = smooth_factor * price_history[i] + (1 - smooth_factor) * ema[i-1]\n",
    "            ema.append(value)\n",
    "\n",
    "        return ema[len(ema)-1]"
   ]
  },
  {
   "cell_type": "markdown",
   "id": "dbf39910",
   "metadata": {},
   "source": [
    "# Bitcoin Market Model"
   ]
  },
  {
   "cell_type": "code",
   "execution_count": 14,
   "id": "1c64a0f5",
   "metadata": {},
   "outputs": [],
   "source": [
    "import random\n",
    "\n",
    "class BitcoinMarketModel(mesa.Model):\n",
    "    def __init__(self, N, chartist_ratio, random_ratio, fiat_owned, tradable_bitcoin, initial_price, n):\n",
    "        self.num_agents = N\n",
    "        self.schedule = mesa.time.RandomActivation(self)\n",
    "        \n",
    "        self.today_price = initial_price\n",
    "        self.price_history = []\n",
    "        self.price_history.append(initial_price) # Assigning initial price as 31st December 2019\n",
    "        \n",
    "        self.today_volume = 0\n",
    "        self.yesterday_volume = 0\n",
    "        \n",
    "        bitcoin_owned = tradable_bitcoin // N\n",
    "\n",
    "        for i in range(self.num_agents * chartist_ratio // 100):\n",
    "            a = ChartistR1R1Agent(str(f\"chartist-{i}\"), \n",
    "                                  self, \n",
    "                                  fiat_owned,\n",
    "                                  bitcoin_owned, \n",
    "                                  n)\n",
    "\n",
    "            self.schedule.add(a)\n",
    "    \n",
    "    def step(self):\n",
    "        print('new cycle')\n",
    "        # Before Stepping         \n",
    "        self.today_price = self.calculate_today_price()\n",
    "        self.today_volume = 0\n",
    "        \n",
    "        # Stepping\n",
    "        self.schedule.step()\n",
    "        \n",
    "        # After Stepping\n",
    "        self.price_history.append(self.today_price)\n",
    "        self.yesterday_volume = self.today_volume\n",
    "        \n",
    "        print(f'vol = {self.yesterday_volume}')\n",
    "        \n",
    "    # Model Helper Function\n",
    "    # Calculate Number of Agents\n",
    "    def calculate_number_of_agents(self):\n",
    "        return self.a * math.exp(self.b * self.t)\n",
    "    \n",
    "    # Calculate Price\n",
    "    def calculate_today_price_change(self):\n",
    "        supply_demand_difference = self.demand - self.supply\n",
    "        sign = math.copysign(1, supply_demand_difference)\n",
    "        \n",
    "        return math.floor((math.sqrt(2) / 2) *  sign * math.sqrt(abs(supply_demand_difference)))"
   ]
  },
  {
   "cell_type": "markdown",
   "id": "433c3646",
   "metadata": {},
   "source": [
    "# Simulation"
   ]
  },
  {
   "cell_type": "code",
   "execution_count": 15,
   "id": "dbf1f034",
   "metadata": {},
   "outputs": [],
   "source": [
    "# Model Parameters\n",
    "# total_bitcoin = 18200000 # https://www.statista.com/statistics/247280/number-of-bitcoins-in-circulation/\n",
    "total_bitcoin = 10000 \n",
    "tradable_bitcoin_ratio = 0.7 # https://www.makeuseof.com/how-much-bitcoin-is-lost-forever/#:~:text=Estimates%20suggest%20that%20around%206,a%20guess%20at%20the%20password.\n",
    "initial_price = 10\n",
    "\n",
    "# Model Derivative Parameters\n",
    "tradable_bitcoin = total_bitcoin * tradable_bitcoin_ratio\n",
    "\n",
    "# Agents Parameters\n",
    "agents = 2\n",
    "n = 3\n",
    "chartist_ratio = 100 # based on Cocco's paper\n",
    "random_ratio = 40\n",
    "fiat_owned = 100\n",
    "\n",
    "a = 17440\n",
    "b = 0.002465"
   ]
  },
  {
   "cell_type": "code",
   "execution_count": 16,
   "id": "bff2aee7",
   "metadata": {},
   "outputs": [
    {
     "name": "stdout",
     "output_type": "stream",
     "text": [
      "new cycle\n",
      "potential buy for chartist-1\n",
      "[10]\n",
      "10.0 vs 11\n",
      "potential buy for chartist-0\n",
      "[10]\n",
      "10.0 vs 11\n",
      "vol = 0\n",
      "new cycle\n",
      "potential buy for chartist-0\n",
      "[10, 11]\n",
      "10.5 vs 11\n",
      "potential buy for chartist-1\n",
      "[10, 11]\n",
      "10.5 vs 11\n",
      "vol = 0\n",
      "new cycle\n",
      "potential buy for chartist-0\n",
      "[10, 11, 11]\n",
      "10.666666666666666 vs 11\n",
      "potential buy for chartist-1\n",
      "[10, 11, 11]\n",
      "10.666666666666666 vs 11\n",
      "vol = 0\n",
      "new cycle\n",
      "potential buy for chartist-1\n",
      "[11, 11, 11]\n",
      "11.0 vs 11\n",
      "potential buy for chartist-0\n",
      "[11, 11, 11]\n",
      "11.0 vs 11\n",
      "vol = 0\n",
      "new cycle\n",
      "potential buy for chartist-0\n",
      "[11, 11, 11]\n",
      "11.0 vs 12\n",
      "potential buy for chartist-1\n",
      "[11, 11, 11]\n",
      "11.0 vs 12\n",
      "vol = 0\n",
      "new cycle\n",
      "potential buy for chartist-0\n",
      "[11, 11, 12]\n",
      "11.333333333333334 vs 12\n",
      "potential buy for chartist-1\n",
      "[11, 11, 12]\n",
      "11.333333333333334 vs 12\n",
      "vol = 0\n",
      "new cycle\n",
      "potential buy for chartist-0\n",
      "[11, 12, 12]\n",
      "11.666666666666666 vs 11\n",
      "chartist-0 : fiat 89 bitcoin 3501.0\n",
      "potential buy for chartist-1\n",
      "[11, 12, 12]\n",
      "11.666666666666666 vs 11\n",
      "chartist-1 : fiat 89 bitcoin 3501.0\n",
      "vol = 2\n",
      "new cycle\n",
      "potential sell for chartist-1\n",
      "[12, 12, 11]\n",
      "11.666666666666666 vs 10\n",
      "potential sell for chartist-0\n",
      "[12, 12, 11]\n",
      "11.666666666666666 vs 10\n",
      "vol = 0\n",
      "new cycle\n",
      "potential sell for chartist-1\n",
      "[12, 11, 10]\n",
      "11.0 vs 9\n",
      "potential sell for chartist-0\n",
      "[12, 11, 10]\n",
      "11.0 vs 9\n",
      "vol = 0\n",
      "new cycle\n",
      "potential sell for chartist-0\n",
      "[11, 10, 9]\n",
      "10.0 vs 10\n",
      "potential sell for chartist-1\n",
      "[11, 10, 9]\n",
      "10.0 vs 10\n",
      "vol = 0\n",
      "Agent chartist-0 : Fiat 89 Bitcoin 3501.0\n",
      "Agent chartist-1 : Fiat 89 Bitcoin 3501.0\n"
     ]
    }
   ],
   "source": [
    "model = BitcoinMarketModel(agents, \n",
    "                           chartist_ratio, \n",
    "                           random_ratio, \n",
    "                           fiat_owned,\n",
    "                           tradable_bitcoin, \n",
    "                           initial_price, \n",
    "                           n)\n",
    "\n",
    "for i in range(10):\n",
    "    model.step()\n",
    "\n",
    "agents = model.schedule.agents\n",
    "for a in agents:\n",
    "    print(f\"Agent {a.unique_id} : Fiat {a.fiat} Bitcoin {a.bitcoin}\")"
   ]
  },
  {
   "cell_type": "code",
   "execution_count": null,
   "id": "d4ca88f1",
   "metadata": {},
   "outputs": [],
   "source": []
  }
 ],
 "metadata": {
  "kernelspec": {
   "display_name": "Python 3 (ipykernel)",
   "language": "python",
   "name": "python3"
  },
  "language_info": {
   "codemirror_mode": {
    "name": "ipython",
    "version": 3
   },
   "file_extension": ".py",
   "mimetype": "text/x-python",
   "name": "python",
   "nbconvert_exporter": "python",
   "pygments_lexer": "ipython3",
   "version": "3.11.4"
  }
 },
 "nbformat": 4,
 "nbformat_minor": 5
}
