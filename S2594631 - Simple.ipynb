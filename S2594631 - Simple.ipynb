{
 "cells": [
  {
   "cell_type": "markdown",
   "id": "37fdc4fc",
   "metadata": {},
   "source": [
    "# Library"
   ]
  },
  {
   "cell_type": "code",
   "execution_count": 266,
   "id": "918c8419",
   "metadata": {},
   "outputs": [
    {
     "name": "stdout",
     "output_type": "stream",
     "text": [
      "Note: you may need to restart the kernel to use updated packages.\n"
     ]
    }
   ],
   "source": [
    "# Installation\n",
    "%pip install --quiet mesa"
   ]
  },
  {
   "cell_type": "code",
   "execution_count": 267,
   "id": "79897d6e",
   "metadata": {},
   "outputs": [],
   "source": [
    "# Import\n",
    "import mesa\n",
    "import numpy as np\n",
    "import pandas as pd\n",
    "import matplotlib.pyplot as plt\n",
    "import plotly.express as px\n",
    "import seaborn as sns\n",
    "\n",
    "from tabulate import tabulate\n",
    "\n",
    "import math\n",
    "import random"
   ]
  },
  {
   "cell_type": "markdown",
   "id": "f8a65cf1",
   "metadata": {},
   "source": [
    "# Class Definition"
   ]
  },
  {
   "cell_type": "markdown",
   "id": "135e4916",
   "metadata": {},
   "source": [
    "## Agent"
   ]
  },
  {
   "cell_type": "code",
   "execution_count": 268,
   "id": "86734307",
   "metadata": {},
   "outputs": [],
   "source": [
    "class ChartistAgent(mesa.Agent):\n",
    "    def __init__(self, id, model, fiat_owned, bitcoin_owned, chartist_day_reference):\n",
    "        super().__init__(id, model)\n",
    "\n",
    "        # Attribute Initialization         \n",
    "        self.fiat = fiat_owned\n",
    "        self.bitcoin = bitcoin_owned\n",
    "        self.total_value_obtained = self.fiat + (self.bitcoin * self.model.price) - self.model.initial_fiat_owned\n",
    "        self.is_close = True\n",
    "        self.n = chartist_day_reference\n",
    "        self.ratio_bitcoin_fiat = round(self.bitcoin / self.fiat, 2)\n",
    "        \n",
    "        # Default Rule : EMA for both opening and closing\n",
    "        self.is_open_sma_high = False\n",
    "        self.is_close_sma_high = False\n",
    "        \n",
    "        if (np.random.uniform() <= 0.25):\n",
    "            # Rule : SMA for both opening and closing             \n",
    "            self.is_open_sma_high = True\n",
    "            self.is_close_sma_high = True\n",
    "        elif (np.random.uniform() > 0.25 and np.random.uniform() < 0.5):\n",
    "            # Rule : SMA for opening and EMA for closing\n",
    "            self.is_open_sma_high = True\n",
    "        elif (np.random.uniform() > 0.25 and np.random.uniform() < 0.75):\n",
    "            # Rule : EMA for opening and SMA for closing\n",
    "            self.is_close_sma_high = True\n",
    "    \n",
    "    def step(self):\n",
    "        if self.is_close:\n",
    "            # Potential Buy\n",
    "            sma_value = self.calculate_sma_n_days()\n",
    "            ema_value = self.calculate_ema_n_days()\n",
    "            \n",
    "            # Count Probability to Buy Based on Rule\n",
    "            probability_to_buy = 0\n",
    "            if self.model.price < sma_value:\n",
    "                probability_to_buy += (0.8 if self.is_open_sma_high else 0.2)\n",
    "            \n",
    "            if self.model.price > ema_value:\n",
    "                probability_to_buy += (0.8 if not self.is_open_sma_high else 0.2)\n",
    "            \n",
    "            # Actual Buy\n",
    "            if (np.random.uniform() <= probability_to_buy):\n",
    "                self.is_close = False\n",
    "                \n",
    "                bitcoin_obtained = math.floor((self.fiat / self.model.price) * 10000) / 10000\n",
    "                self.bitcoin += bitcoin_obtained\n",
    "                self.fiat -= self.bitcoin * self.model.price\n",
    "                self.model.demand += bitcoin_obtained\n",
    "\n",
    "                if (self.is_close_sma_high and self.is_close_sma_high):\n",
    "                    self.model.number_of_open_position_R1R1_agent += 1\n",
    "                elif (self.is_close_sma_high and not self.is_close_sma_high):\n",
    "                    self.model.number_of_open_position_R1R2_agent += 1\n",
    "                elif (not self.is_close_sma_high and self.is_close_sma_high):\n",
    "                    self.model.number_of_open_position_R2R1_agent += 1\n",
    "                elif (not self.is_close_sma_high and not self.is_close_sma_high):\n",
    "                    self.model.number_of_open_position_R2R2_agent += 1\n",
    "    \n",
    "        else:\n",
    "            # Potential Sell\n",
    "            sma_value = self.calculate_sma_n_days()\n",
    "            ema_value = self.calculate_ema_n_days()\n",
    "\n",
    "            # Count Probability to Sell Based on Rule\n",
    "            probability_to_sell = 0\n",
    "            if self.model.price > sma_value:\n",
    "                probability_to_sell += (0.8 if self.is_close_sma_high else 0.2)\n",
    "            \n",
    "            if self.model.price < ema_value:\n",
    "                probability_to_sell += (0.8 if not self.is_close_sma_high else 0.2)\n",
    "            \n",
    "            # Actual Sell\n",
    "            if (np.random.uniform() <= probability_to_sell):\n",
    "                self.is_close = True\n",
    "                \n",
    "                bitcoin_released = self.bitcoin\n",
    "                self.fiat += self.bitcoin * self.model.price\n",
    "                self.bitcoin -= bitcoin_released\n",
    "                self.model.supply += bitcoin_released\n",
    "                \n",
    "                if (self.is_close_sma_high and self.is_close_sma_high):\n",
    "                    self.model.number_of_open_position_R1R1_agent -= 1\n",
    "                elif (self.is_close_sma_high and not self.is_close_sma_high):\n",
    "                    self.model.number_of_open_position_R1R2_agent -= 1\n",
    "                elif (not self.is_close_sma_high and self.is_close_sma_high):\n",
    "                    self.model.number_of_open_position_R2R1_agent -= 1\n",
    "                elif (not self.is_close_sma_high and not self.is_close_sma_high):\n",
    "                    self.model.number_of_open_position_R2R2_agent -= 1\n",
    "        \n",
    "        self.total_value_obtained = self.fiat + (self.bitcoin * self.model.price) - self.model.initial_fiat_owned\n",
    "        self.ratio_bitcoin_fiat = round(self.bitcoin / self.fiat, 2)\n",
    "                    \n",
    "    # Agent Helper Function\n",
    "    # SMA Rule\n",
    "    def calculate_sma_n_days(self):\n",
    "        start_index = max(0, len(self.model.price_history) - self.n)\n",
    "        window = self.model.price_history[start_index:len(self.model.price_history)]\n",
    "\n",
    "        return sum(window) / len(window)\n",
    "\n",
    "    # EMA Rule\n",
    "    def calculate_ema_n_days(self):\n",
    "        smooth_factor = 2 / (self.n + 1)\n",
    "        ema = [self.model.price_history[0]]\n",
    "\n",
    "        for i in range(1, len(self.model.price_history)):\n",
    "            value = smooth_factor * self.model.price_history[i] + (1 - smooth_factor) * ema[i-1]\n",
    "            ema.append(value)\n",
    "\n",
    "        return ema[len(ema)-1]"
   ]
  },
  {
   "cell_type": "code",
   "execution_count": 269,
   "id": "8117b569",
   "metadata": {},
   "outputs": [],
   "source": [
    "class RandomAgent(mesa.Agent):\n",
    "    def __init__(self, id, model, fiat_owned, bitcoin_owned):\n",
    "        super().__init__(id, model)\n",
    "\n",
    "        # Attribute Initialization         \n",
    "        self.fiat = fiat_owned\n",
    "        self.bitcoin = bitcoin_owned\n",
    "        self.total_value_obtained = self.fiat + (self.bitcoin * self.model.price) - self.model.initial_fiat_owned\n",
    "        self.is_close = True\n",
    "    \n",
    "    def step(self):\n",
    "        if self.is_close:\n",
    "            # Actual Buy\n",
    "            if (random.choice([True, False])):\n",
    "                self.is_close = False\n",
    "\n",
    "                bitcoin_obtained = math.floor((self.fiat / self.model.price) * 10000) / 10000\n",
    "                self.bitcoin += bitcoin_obtained\n",
    "                self.fiat -= self.bitcoin * self.model.price\n",
    "                self.model.demand += bitcoin_obtained\n",
    "                self.model.number_of_open_position_random_agent += 1\n",
    "    \n",
    "        else:\n",
    "            # Actual Sell\n",
    "            if (random.choice([True, False])):\n",
    "                self.is_close = True\n",
    "                \n",
    "                bitcoin_released = self.bitcoin\n",
    "                self.fiat += self.bitcoin * self.model.price\n",
    "                self.bitcoin -= bitcoin_released\n",
    "                self.model.supply += bitcoin_released\n",
    "                self.model.number_of_open_position_random_agent -= 1\n",
    "\n",
    "        self.total_value_obtained = self.fiat + (self.bitcoin * self.model.price) - self.model.initial_fiat_owned\n",
    "        self.ratio_bitcoin_fiat = round(self.bitcoin / self.fiat, 2)"
   ]
  },
  {
   "cell_type": "code",
   "execution_count": 270,
   "id": "2148176c",
   "metadata": {},
   "outputs": [],
   "source": [
    "import random\n",
    "\n",
    "class BitcoinMarketModel(mesa.Model):\n",
    "    def __init__(self, price_start, number_of_agents, total_fiat, total_bitcoin, chartist_ratio, chartist_day_reference):\n",
    "        self.schedule = mesa.time.RandomActivation(self)\n",
    "        \n",
    "        self.price = price_start\n",
    "        self.price_history = [price_start]\n",
    "        self.number_of_agents = number_of_agents\n",
    "        \n",
    "        self.total_fiat = total_fiat\n",
    "        self.total_bitcoin = total_bitcoin\n",
    "        self.supply = 0\n",
    "        self.demand = 0\n",
    "        \n",
    "        self.number_of_open_position_R1R1_agent = 0\n",
    "        self.number_of_open_position_R1R2_agent = 0\n",
    "        self.number_of_open_position_R2R1_agent = 0\n",
    "        self.number_of_open_position_R2R2_agent = 0\n",
    "        self.number_of_open_position_random_agent = 0\n",
    "\n",
    "        # For Intermediary Process\n",
    "        self.steps = 0\n",
    "        self.agents = []\n",
    "        \n",
    "        self.chartist_ratio = chartist_ratio\n",
    "        self.initial_fiat_owned = self.total_fiat / self.number_of_agents\n",
    "        self.chartist_day_reference = chartist_day_reference\n",
    "        \n",
    "        # For Batch Run         \n",
    "        self.running = True\n",
    "        \n",
    "        number_of_chartist = math.floor(self.chartist_ratio * self.number_of_agents)\n",
    "        number_of_random = self.number_of_agents - number_of_chartist\n",
    "        fiat_owned = self.initial_fiat_owned\n",
    "        bitcoin_owned = 0\n",
    "\n",
    "        for i in range(number_of_chartist):\n",
    "            a = ChartistAgent(str(f\"chartist-{i}\"), \n",
    "                              self, \n",
    "                              fiat_owned,\n",
    "                              bitcoin_owned, \n",
    "                              chartist_day_reference)\n",
    "\n",
    "            self.schedule.add(a)\n",
    "            self.agents.append(a)\n",
    "        \n",
    "        for i in range(number_of_random):\n",
    "            a = RandomAgent(str(f\"random-{i}\"), \n",
    "                          self, \n",
    "                          fiat_owned,\n",
    "                          bitcoin_owned)\n",
    "\n",
    "            self.schedule.add(a)\n",
    "            self.agents.append(a)\n",
    "        \n",
    "        self.datacollector = mesa.DataCollector(\n",
    "            model_reporters={\"Price\": \"price\", \n",
    "                             \"Number_of_agents\": \"number_of_agents\", \n",
    "                             \"Open_R1R1\": \"number_of_open_position_R1R1_agent\", \n",
    "                             \"Open_R1R2\": \"number_of_open_position_R1R2_agent\", \n",
    "                             \"Open_R2R1\": \"number_of_open_position_R2R1_agent\", \n",
    "                             \"Open_R2R2\": \"number_of_open_position_R2R2_agent\", \n",
    "                             \"Open_Random\": \"number_of_open_position_random_agent\"}, \n",
    "            agent_reporters={\"Fiat\": \"fiat\", \n",
    "                             \"Bitcoin\": \"bitcoin\", \n",
    "                             \"TOV\": \"total_value_obtained\", \n",
    "                             \"RBF\": \"ratio_bitcoin_fiat\",\n",
    "                             \"OpenSMA\": \"is_open_sma_high\", \n",
    "                             \"CloseSMA\": \"is_close_sma_high\"}\n",
    "        )\n",
    "    \n",
    "    def step(self):\n",
    "        # Before Stepping\n",
    "        self.price += self.calculate_today_price_change()\n",
    "        self.supply = 0\n",
    "        self.demand = 0\n",
    "        \n",
    "        self.datacollector.collect(self)\n",
    "        \n",
    "        # Stepping\n",
    "        self.schedule.step()\n",
    "        self.steps += 1\n",
    "        \n",
    "        # After Stepping\n",
    "        self.price_history.append(self.price)\n",
    "        \n",
    "        # Monthly Adjustment\n",
    "        if (self.steps % 30 == 0):\n",
    "            # Add New Agents\n",
    "            old_number_of_agents = self.number_of_agents\n",
    "            self.number_of_agents += math.floor(0.6 * self.number_of_agents / 12)\n",
    "            \n",
    "            number_of_chartist = math.floor(self.chartist_ratio * self.number_of_agents)\n",
    "            number_of_random = self.number_of_agents - number_of_chartist\n",
    "            fiat_owned = self.initial_fiat_owned\n",
    "            bitcoin_owned = 0\n",
    "            chartist_day_reference = self.chartist_day_reference\n",
    "            \n",
    "            for i in range(number_of_chartist):\n",
    "                a = ChartistAgent(str(f\"chartist-{i}\"), \n",
    "                                  self, \n",
    "                                  fiat_owned,\n",
    "                                  bitcoin_owned, \n",
    "                                  chartist_day_reference)\n",
    "\n",
    "                self.schedule.add(a)\n",
    "                self.agents.append(a)\n",
    "\n",
    "            for i in range(number_of_random):\n",
    "                a = RandomAgent(str(f\"random-{i}\"), \n",
    "                              self, \n",
    "                              fiat_owned,\n",
    "                              bitcoin_owned)\n",
    "\n",
    "                self.schedule.add(a)\n",
    "                self.agents.append(a)\n",
    "                    \n",
    "            # Add New Bitcoins to Traders\n",
    "            valuable_agents = []\n",
    "            total_bitcoin_in_agents = 0\n",
    "            for i in range(len(self.agents)):\n",
    "                agent = self.agents[i]\n",
    "                \n",
    "                if (agent.bitcoin != 0):\n",
    "                    valuable_agents.append(agent)\n",
    "                    total_bitcoin_in_agents += agent.bitcoin\n",
    "            \n",
    "            total_new_bitcoin = round(0.076 * self.total_bitcoin, 4)\n",
    "            self.total_bitcoin += total_new_bitcoin\n",
    "            \n",
    "            for i in range(len(valuable_agents)):\n",
    "                agent = valuable_agents[i]\n",
    "                \n",
    "                ratio = agent.bitcoin / total_bitcoin_in_agents\n",
    "                \n",
    "                agent.bitcoin += round(ratio * total_new_bitcoin, 4)\n",
    "        \n",
    "    # Model Helper Function\n",
    "    # Calculate Price\n",
    "    def calculate_today_price_change(self):\n",
    "        supply_demand_difference = self.demand - self.supply\n",
    "        sign = math.copysign(1, supply_demand_difference)\n",
    "        \n",
    "        return math.floor((math.sqrt(2) / 2) *  sign * math.sqrt(abs(supply_demand_difference)))"
   ]
  },
  {
   "cell_type": "markdown",
   "id": "70554d53",
   "metadata": {},
   "source": [
    "# SIMULATION"
   ]
  },
  {
   "cell_type": "code",
   "execution_count": 271,
   "id": "f48dd526",
   "metadata": {},
   "outputs": [
    {
     "data": {
      "application/vnd.jupyter.widget-view+json": {
       "model_id": "32abc3bb98aa4dc49b34b7269c54f8ad",
       "version_major": 2,
       "version_minor": 0
      },
      "text/plain": [
       "  0%|          | 0/20 [00:00<?, ?it/s]"
      ]
     },
     "metadata": {},
     "output_type": "display_data"
    }
   ],
   "source": [
    "# Agents Parameters\n",
    "params = {\"price_start\": 5614, \n",
    "          \"number_of_agents\": 10, \n",
    "          \"total_fiat\": 5000000, \n",
    "          \"total_bitcoin\": 10000, \n",
    "          \"chartist_ratio\": 0.6, \n",
    "          \"chartist_day_reference\": range(1, 11, 1)}\n",
    "\n",
    "max_steps = 10\n",
    "\n",
    "results = mesa.batch_run(\n",
    "    BitcoinMarketModel,\n",
    "    parameters=params,\n",
    "    iterations=2,\n",
    "    max_steps=max_steps,\n",
    "    number_processes=1,\n",
    "    data_collection_period=1,\n",
    "    display_progress=True,\n",
    ")\n",
    "\n",
    "results_df = pd.DataFrame(results)\n",
    "# print(results_df)"
   ]
  },
  {
   "cell_type": "markdown",
   "id": "5089b3c3",
   "metadata": {},
   "source": [
    "## Task 2.1 Effect of n in Chartist Strategy"
   ]
  },
  {
   "cell_type": "code",
   "execution_count": 272,
   "id": "7e475e0a",
   "metadata": {},
   "outputs": [],
   "source": [
    "results_chartist_df = results_df[(results_df[\"AgentID\"].str.contains(\"chartist\"))]\n",
    "results_chartist_df = results_chartist_df[(results_chartist_df.Step == max_steps)]\n",
    "\n",
    "# print(results_chartist_df.head(3))"
   ]
  },
  {
   "cell_type": "code",
   "execution_count": 273,
   "id": "79654de2",
   "metadata": {},
   "outputs": [
    {
     "data": {
      "image/png": "[encoded data removed]",
      "text/plain": [
       "<Figure size 640x480 with 1 Axes>"
      ]
     },
     "metadata": {},
     "output_type": "display_data"
    },
    {
     "name": "stdout",
     "output_type": "stream",
     "text": [
      "                           TOV Mean       TOV SD\n",
      "chartist_day_reference                          \n",
      "1                       2046.718975   906.264937\n",
      "2                       -266.287800          NaN\n",
      "3                        622.411700          NaN\n",
      "4                       2107.499467  1388.632671\n",
      "5                          2.237433  1646.086468\n",
      "6                       1245.357275   727.059014\n",
      "7                        799.289100          NaN\n",
      "8                         44.689500  1821.546808\n",
      "9                       1557.444825  1274.160569\n",
      "10                       533.523000          NaN\n",
      "\n",
      "\n",
      "                        Open Pos Mean  Open Pos SD\n",
      "chartist_day_reference                            \n",
      "1                            1.000000      0.00000\n",
      "2                            2.000000          NaN\n",
      "3                            1.000000          NaN\n",
      "4                            3.666667      0.57735\n",
      "5                            1.333333      0.57735\n",
      "6                            1.500000      0.57735\n",
      "7                            2.000000          NaN\n",
      "8                            1.000000      0.00000\n",
      "9                            0.250000      0.50000\n",
      "10                           2.000000          NaN\n"
     ]
    }
   ],
   "source": [
    "results_chartist_R1R1_df = results_chartist_df[(results_chartist_df.OpenSMA == True)]\n",
    "results_chartist_R1R1_df = results_chartist_R1R1_df[(results_chartist_R1R1_df.CloseSMA == True)]\n",
    "\n",
    "g_R1R1 = sns.scatterplot(data=results_chartist_R1R1_df, \n",
    "               x=\"chartist_day_reference\", \n",
    "               y=\"TOV\")\n",
    "g_R1R1.set(\n",
    "    xlabel=\"n\",\n",
    "    ylabel=\"TOV\",\n",
    "    title=\"n vs Total Obtained Value R1R1\",\n",
    ");\n",
    "\n",
    "plt.axhline(y=0, color='r', linestyle='--', label='y=0')\n",
    "plt.show()\n",
    "\n",
    "avg_TVO_per_n_R1R1_df = pd.DataFrame(results_chartist_R1R1_df.groupby(['chartist_day_reference']).mean(numeric_only=True)['TOV'])\n",
    "avg_TVO_per_n_R1R1_df = avg_TVO_per_n_R1R1_df.rename(columns={'TOV': 'TOV Mean'})\n",
    "sd_TVO_per_n_R1R1_df = pd.DataFrame(results_chartist_R1R1_df.groupby(['chartist_day_reference']).std(numeric_only=True)['TOV'])\n",
    "sd_TVO_per_n_R1R1_df = sd_TVO_per_n_R1R1_df.rename(columns={'TOV': 'TOV SD'})\n",
    "\n",
    "avg_open_pos_per_n_R1R1_df = pd.DataFrame(results_chartist_R1R1_df.groupby(['chartist_day_reference']).mean(numeric_only=True)['Open_R1R1'])\n",
    "avg_open_pos_per_n_R1R1_df = avg_open_pos_per_n_R1R1_df.rename(columns={'Open_R1R1': 'Open Pos Mean'})\n",
    "sd_open_pos_per_n_R1R1_df = pd.DataFrame(results_chartist_R1R1_df.groupby(['chartist_day_reference']).std(numeric_only=True)['Open_R1R1'])\n",
    "sd_open_pos_per_n_R1R1_df = sd_open_pos_per_n_R1R1_df.rename(columns={'Open_R1R1': 'Open Pos SD'})\n",
    "\n",
    "print(avg_TVO_per_n_R1R1_df.merge(sd_TVO_per_n_R1R1_df, on='chartist_day_reference',how='left'))\n",
    "print('\\n')\n",
    "print(avg_open_pos_per_n_R1R1_df.merge(sd_open_pos_per_n_R1R1_df, on='chartist_day_reference',how='left'))\n"
   ]
  },
  {
   "cell_type": "code",
   "execution_count": 274,
   "id": "ba8d7a6c",
   "metadata": {},
   "outputs": [
    {
     "data": {
      "image/png": "[encoded data removed]",
      "text/plain": [
       "<Figure size 640x480 with 1 Axes>"
      ]
     },
     "metadata": {},
     "output_type": "display_data"
    },
    {
     "name": "stdout",
     "output_type": "stream",
     "text": [
      "                           TOV Mean       TOV SD\n",
      "chartist_day_reference                          \n",
      "1                        148.179567   420.137293\n",
      "2                         88.209400   124.613145\n",
      "3                        555.231575   912.502926\n",
      "4                       1068.184833  1344.649944\n",
      "5                         18.337280   601.382366\n",
      "6                       -176.730467  1332.268207\n",
      "7                        356.736420  1080.554530\n",
      "8                       1066.098200   706.195273\n",
      "9                        757.562075  1641.207966\n",
      "10                      -444.666133   320.860645\n",
      "\n",
      "\n",
      "                        Open Pos Mean  Open Pos SD\n",
      "chartist_day_reference                            \n",
      "1                                 0.0          0.0\n",
      "2                                 0.0          0.0\n",
      "3                                 0.0          0.0\n",
      "4                                 0.0          0.0\n",
      "5                                 0.0          0.0\n",
      "6                                 0.0          0.0\n",
      "7                                 0.0          0.0\n",
      "8                                 0.0          0.0\n",
      "9                                 0.0          0.0\n",
      "10                                0.0          0.0\n"
     ]
    }
   ],
   "source": [
    "results_chartist_R1R2_df = results_chartist_df[(results_chartist_df.OpenSMA == True)]\n",
    "results_chartist_R1R2_df = results_chartist_R1R2_df[(results_chartist_R1R2_df.CloseSMA == False)]\n",
    "\n",
    "g_R1R2 = sns.scatterplot(data=results_chartist_R1R2_df, \n",
    "               x=\"chartist_day_reference\", \n",
    "               y=\"TOV\")\n",
    "g_R1R2.set(\n",
    "    xlabel=\"n\",\n",
    "    ylabel=\"TOV\",\n",
    "    title=\"n vs Total Obtained Value R1R2\",\n",
    ");\n",
    "\n",
    "plt.axhline(y=0, color='r', linestyle='--', label='y=0')\n",
    "plt.show()\n",
    "\n",
    "avg_TVO_per_n_R1R2_df = pd.DataFrame(results_chartist_R1R2_df.groupby(['chartist_day_reference']).mean(numeric_only=True)['TOV'])\n",
    "avg_TVO_per_n_R1R2_df = avg_TVO_per_n_R1R2_df.rename(columns={'TOV': 'TOV Mean'})\n",
    "sd_TVO_per_n_R1R2_df = pd.DataFrame(results_chartist_R1R2_df.groupby(['chartist_day_reference']).std(numeric_only=True)['TOV'])\n",
    "sd_TVO_per_n_R1R2_df = sd_TVO_per_n_R1R2_df.rename(columns={'TOV': 'TOV SD'})\n",
    "\n",
    "avg_open_pos_per_n_R1R2_df = pd.DataFrame(results_chartist_R1R2_df.groupby(['chartist_day_reference']).mean(numeric_only=True)['Open_R1R2'])\n",
    "avg_open_pos_per_n_R1R2_df = avg_open_pos_per_n_R1R2_df.rename(columns={'Open_R1R2': 'Open Pos Mean'})\n",
    "sd_open_pos_per_n_R1R2_df = pd.DataFrame(results_chartist_R1R2_df.groupby(['chartist_day_reference']).std(numeric_only=True)['Open_R1R2'])\n",
    "sd_open_pos_per_n_R1R2_df = sd_open_pos_per_n_R1R2_df.rename(columns={'Open_R1R2': 'Open Pos SD'})\n",
    "\n",
    "print(avg_TVO_per_n_R1R2_df.merge(sd_TVO_per_n_R1R2_df, on='chartist_day_reference',how='left'))\n",
    "print('\\n')\n",
    "print(avg_open_pos_per_n_R1R2_df.merge(sd_open_pos_per_n_R1R2_df, on='chartist_day_reference',how='left'))"
   ]
  },
  {
   "cell_type": "code",
   "execution_count": 275,
   "id": "50cb93fd",
   "metadata": {},
   "outputs": [
    {
     "data": {
      "image/png": "[encoded data removed]",
      "text/plain": [
       "<Figure size 640x480 with 1 Axes>"
      ]
     },
     "metadata": {},
     "output_type": "display_data"
    },
    {
     "name": "stdout",
     "output_type": "stream",
     "text": [
      "                           TOV Mean       TOV SD\n",
      "chartist_day_reference                          \n",
      "1                       1066.655900   235.626242\n",
      "2                       1613.090438  1518.288217\n",
      "3                        400.970900  1118.219531\n",
      "4                       1380.099650  1554.652994\n",
      "5                       1066.507600          NaN\n",
      "6                       1111.814550   761.208820\n",
      "7                       -221.047100  1325.250801\n",
      "8                       1362.439333    50.607250\n",
      "9                       1935.110150   256.137511\n",
      "10                       568.100460   719.835291\n",
      "\n",
      "\n",
      "                        Open Pos Mean  Open Pos SD\n",
      "chartist_day_reference                            \n",
      "1                                 0.0          0.0\n",
      "2                                 0.0          0.0\n",
      "3                                 0.0          0.0\n",
      "4                                 0.0          0.0\n",
      "5                                 0.0          NaN\n",
      "6                                 0.0          0.0\n",
      "7                                 0.0          0.0\n",
      "8                                 0.0          0.0\n",
      "9                                 0.0          0.0\n",
      "10                                0.0          0.0\n"
     ]
    }
   ],
   "source": [
    "results_chartist_R2R1_df = results_chartist_df[(results_chartist_df.OpenSMA == False)]\n",
    "results_chartist_R2R1_df = results_chartist_R2R1_df[(results_chartist_R2R1_df.CloseSMA == True)]\n",
    "\n",
    "g_R2R1 = sns.scatterplot(data=results_chartist_R2R1_df, \n",
    "               x=\"chartist_day_reference\", \n",
    "               y=\"TOV\")\n",
    "g_R2R1.set(\n",
    "    xlabel=\"n\",\n",
    "    ylabel=\"TOV\",\n",
    "    title=\"n vs Total Obtained Value R2R1\",\n",
    ");\n",
    "\n",
    "plt.axhline(y=0, color='r', linestyle='--', label='y=0')\n",
    "plt.show()\n",
    "\n",
    "avg_TVO_per_n_R2R1_df = pd.DataFrame(results_chartist_R2R1_df.groupby(['chartist_day_reference']).mean(numeric_only=True)['TOV'])\n",
    "avg_TVO_per_n_R2R1_df = avg_TVO_per_n_R2R1_df.rename(columns={'TOV': 'TOV Mean'})\n",
    "sd_TVO_per_n_R2R1_df = pd.DataFrame(results_chartist_R2R1_df.groupby(['chartist_day_reference']).std(numeric_only=True)['TOV'])\n",
    "sd_TVO_per_n_R2R1_df = sd_TVO_per_n_R2R1_df.rename(columns={'TOV': 'TOV SD'})\n",
    "\n",
    "avg_open_pos_per_n_R2R1_df = pd.DataFrame(results_chartist_R2R1_df.groupby(['chartist_day_reference']).mean(numeric_only=True)['Open_R2R1'])\n",
    "avg_open_pos_per_n_R2R1_df = avg_open_pos_per_n_R2R1_df.rename(columns={'Open_R2R1': 'Open Pos Mean'})\n",
    "sd_open_pos_per_n_R2R1_df = pd.DataFrame(results_chartist_R2R1_df.groupby(['chartist_day_reference']).std(numeric_only=True)['Open_R2R1'])\n",
    "sd_open_pos_per_n_R2R1_df = sd_open_pos_per_n_R2R1_df.rename(columns={'Open_R2R1': 'Open Pos SD'})\n",
    "\n",
    "print(avg_TVO_per_n_R2R1_df.merge(sd_TVO_per_n_R2R1_df, on='chartist_day_reference',how='left'))\n",
    "print('\\n')\n",
    "print(avg_open_pos_per_n_R2R1_df.merge(sd_open_pos_per_n_R2R1_df, on='chartist_day_reference',how='left'))"
   ]
  },
  {
   "cell_type": "code",
   "execution_count": 276,
   "id": "7f885f8d",
   "metadata": {},
   "outputs": [
    {
     "data": {
      "image/png": "[encoded data removed]",
      "text/plain": [
       "<Figure size 640x480 with 1 Axes>"
      ]
     },
     "metadata": {},
     "output_type": "display_data"
    },
    {
     "name": "stdout",
     "output_type": "stream",
     "text": [
      "                           TOV Mean       TOV SD\n",
      "chartist_day_reference                          \n",
      "1                      -1596.167200   125.640147\n",
      "2                       1601.327000          NaN\n",
      "3                        829.982800   806.669442\n",
      "4                        -44.002150   189.410077\n",
      "5                        533.621333  1396.120422\n",
      "6                      -1242.707200          NaN\n",
      "7                        222.680450   691.639174\n",
      "8                        777.872350   980.643757\n",
      "10                       -58.965033   689.927297\n",
      "\n",
      "\n",
      "                        Open Pos Mean  Open Pos SD\n",
      "chartist_day_reference                            \n",
      "1                            1.500000     0.707107\n",
      "2                            1.000000          NaN\n",
      "3                            1.666667     0.577350\n",
      "4                            1.500000     2.121320\n",
      "5                            1.000000     0.000000\n",
      "6                            0.000000          NaN\n",
      "7                            1.000000     0.000000\n",
      "8                            0.500000     1.000000\n",
      "10                           1.666667     0.577350\n"
     ]
    }
   ],
   "source": [
    "results_chartist_R2R2_df = results_chartist_df[(results_chartist_df.OpenSMA == False)]\n",
    "results_chartist_R2R2_df = results_chartist_R2R2_df[(results_chartist_R2R2_df.CloseSMA == False)]\n",
    "\n",
    "g_R2R2 = sns.scatterplot(data=results_chartist_R2R2_df, \n",
    "               x=\"chartist_day_reference\", \n",
    "               y=\"TOV\")\n",
    "g_R2R2.set(\n",
    "    xlabel=\"n\",\n",
    "    ylabel=\"TOV\",\n",
    "    title=\"n vs Total Obtained Value R2R2\",\n",
    ");\n",
    "\n",
    "plt.axhline(y=0, color='r', linestyle='--', label='y=0')\n",
    "plt.show()\n",
    "\n",
    "avg_TVO_per_n_R2R2_df = pd.DataFrame(results_chartist_R2R2_df.groupby(['chartist_day_reference']).mean(numeric_only=True)['TOV'])\n",
    "avg_TVO_per_n_R2R2_df = avg_TVO_per_n_R2R2_df.rename(columns={'TOV': 'TOV Mean'})\n",
    "sd_TVO_per_n_R2R2_df = pd.DataFrame(results_chartist_R2R2_df.groupby(['chartist_day_reference']).std(numeric_only=True)['TOV'])\n",
    "sd_TVO_per_n_R2R2_df = sd_TVO_per_n_R2R2_df.rename(columns={'TOV': 'TOV SD'})\n",
    "\n",
    "avg_open_pos_per_n_R2R2_df = pd.DataFrame(results_chartist_R2R2_df.groupby(['chartist_day_reference']).mean(numeric_only=True)['Open_R2R2'])\n",
    "avg_open_pos_per_n_R2R2_df = avg_open_pos_per_n_R2R2_df.rename(columns={'Open_R2R2': 'Open Pos Mean'})\n",
    "sd_open_pos_per_n_R2R2_df = pd.DataFrame(results_chartist_R2R2_df.groupby(['chartist_day_reference']).std(numeric_only=True)['Open_R2R2'])\n",
    "sd_open_pos_per_n_R2R2_df = sd_open_pos_per_n_R2R2_df.rename(columns={'Open_R2R2': 'Open Pos SD'})\n",
    "\n",
    "print(avg_TVO_per_n_R2R2_df.merge(sd_TVO_per_n_R2R2_df, on='chartist_day_reference',how='left'))\n",
    "print('\\n')\n",
    "print(avg_open_pos_per_n_R2R2_df.merge(sd_open_pos_per_n_R2R2_df, on='chartist_day_reference',how='left'))"
   ]
  },
  {
   "cell_type": "markdown",
   "id": "8553683a",
   "metadata": {},
   "source": [
    "## Task 2.2 Agent Comparisons"
   ]
  },
  {
   "cell_type": "code",
   "execution_count": 281,
   "id": "d8858c58",
   "metadata": {},
   "outputs": [],
   "source": [
    "best_n = 8\n",
    "\n",
    "results_chartist_R1R1__best_n_df = results_chartist_R1R1_df[(results_chartist_R1R1_df.chartist_day_reference == best_n)]\n",
    "results_chartist_R1R2__best_n_df = results_chartist_R1R2_df[(results_chartist_R1R2_df.chartist_day_reference == best_n)]\n",
    "results_chartist_R2R1__best_n_df = results_chartist_R2R1_df[(results_chartist_R2R1_df.chartist_day_reference == best_n)]\n",
    "results_chartist_R2R2__best_n_df = results_chartist_R2R2_df[(results_chartist_R2R2_df.chartist_day_reference == best_n)]\n",
    "\n",
    "results_random_df = results_df[(results_df[\"AgentID\"].str.contains(\"random\"))]\n",
    "results_random_df = results_random_df[(results_random_df.Step == max_steps)]\n",
    "results_random_best_n_df = results_random_df[(results_random_df.chartist_day_reference == best_n)]\n",
    "\n",
    "# print(results_chartist_R1R1__best_n_df.head(3))"
   ]
  },
  {
   "cell_type": "code",
   "execution_count": 295,
   "id": "ecb1844d",
   "metadata": {},
   "outputs": [
    {
     "name": "stdout",
     "output_type": "stream",
     "text": [
      "TOV\n",
      "  Agent Name          Avg           SD\n",
      "0       R1R1    44.689500  1821.546808\n",
      "1       R1R2  1066.098200   706.195273\n",
      "2       R2R1  1362.439333    50.607250\n",
      "3       R2R2   777.872350   980.643757\n",
      "4     Random   901.734512  1160.754005\n"
     ]
    },
    {
     "data": {
      "application/vnd.plotly.v1+json": {
       "config": {
        "plotlyServerURL": "https://plot.ly"
       },
       "data": [
        {
         "alignmentgroup": "True",
         "bingroup": "x",
         "histfunc": "sum",
         "hovertemplate": "Columns=Avg<br>Agent Name=%{x}<br>sum of Value=%{y}<extra></extra>",
         "legendgroup": "Avg",
         "marker": {
          "color": "#636efa",
          "opacity": 0.7,
          "pattern": {
           "shape": ""
          }
         },
         "name": "Avg",
         "offsetgroup": "Avg",
         "orientation": "v",
         "showlegend": true,
         "type": "histogram",
         "x": [
          "R1R1",
          "R1R2",
          "R2R1",
          "R2R2",
          "Random"
         ],
         "xaxis": "x",
         "y": [
          44.68949999997858,
          1066.0981999999883,
          1362.4393333333621,
          777.8723500000342,
          901.7345124999993
         ],
         "yaxis": "y"
        },
        {
         "alignmentgroup": "True",
         "bingroup": "x",
         "histfunc": "sum",
         "hovertemplate": "Columns=SD<br>Agent Name=%{x}<br>sum of Value=%{y}<extra></extra>",
         "legendgroup": "SD",
         "marker": {
          "color": "#EF553B",
          "opacity": 0.7,
          "pattern": {
           "shape": ""
          }
         },
         "name": "SD",
         "offsetgroup": "SD",
         "orientation": "v",
         "showlegend": true,
         "type": "histogram",
         "x": [
          "R1R1",
          "R1R2",
          "R2R1",
          "R2R2",
          "Random"
         ],
         "xaxis": "x2",
         "y": [
          1821.5468077376433,
          706.1952727186119,
          50.60725018064628,
          980.6437566441526,
          1160.7540052327881
         ],
         "yaxis": "y2"
        }
       ],
       "layout": {
        "annotations": [
         {
          "font": {},
          "showarrow": false,
          "text": "Columns=Avg",
          "x": 0.245,
          "xanchor": "center",
          "xref": "paper",
          "y": 1,
          "yanchor": "bottom",
          "yref": "paper"
         },
         {
          "font": {},
          "showarrow": false,
          "text": "Columns=SD",
          "x": 0.755,
          "xanchor": "center",
          "xref": "paper",
          "y": 1,
          "yanchor": "bottom",
          "yref": "paper"
         }
        ],
        "barmode": "overlay",
        "legend": {
         "title": {
          "text": "Columns"
         },
         "tracegroupgap": 0
        },
        "template": {
         "data": {
          "bar": [
           {
            "error_x": {
             "color": "#2a3f5f"
            },
            "error_y": {
             "color": "#2a3f5f"
            },
            "marker": {
             "line": {
              "color": "#E5ECF6",
              "width": 0.5
             },
             "pattern": {
              "fillmode": "overlay",
              "size": 10,
              "solidity": 0.2
             }
            },
            "type": "bar"
           }
          ],
          "barpolar": [
           {
            "marker": {
             "line": {
              "color": "#E5ECF6",
              "width": 0.5
             },
             "pattern": {
              "fillmode": "overlay",
              "size": 10,
              "solidity": 0.2
             }
            },
            "type": "barpolar"
           }
          ],
          "carpet": [
           {
            "aaxis": {
             "endlinecolor": "#2a3f5f",
             "gridcolor": "white",
             "linecolor": "white",
             "minorgridcolor": "white",
             "startlinecolor": "#2a3f5f"
            },
            "baxis": {
             "endlinecolor": "#2a3f5f",
             "gridcolor": "white",
             "linecolor": "white",
             "minorgridcolor": "white",
             "startlinecolor": "#2a3f5f"
            },
            "type": "carpet"
           }
          ],
          "choropleth": [
           {
            "colorbar": {
             "outlinewidth": 0,
             "ticks": ""
            },
            "type": "choropleth"
           }
          ],
          "contour": [
           {
            "colorbar": {
             "outlinewidth": 0,
             "ticks": ""
            },
            "colorscale": [
             [
              0,
              "#0d0887"
             ],
             [
              0.1111111111111111,
              "#46039f"
             ],
             [
              0.2222222222222222,
              "#7201a8"
             ],
             [
              0.3333333333333333,
              "#9c179e"
             ],
             [
              0.4444444444444444,
              "#bd3786"
             ],
             [
              0.5555555555555556,
              "#d8576b"
             ],
             [
              0.6666666666666666,
              "#ed7953"
             ],
             [
              0.7777777777777778,
              "#fb9f3a"
             ],
             [
              0.8888888888888888,
              "#fdca26"
             ],
             [
              1,
              "#f0f921"
             ]
            ],
            "type": "contour"
           }
          ],
          "contourcarpet": [
           {
            "colorbar": {
             "outlinewidth": 0,
             "ticks": ""
            },
            "type": "contourcarpet"
           }
          ],
          "heatmap": [
           {
            "colorbar": {
             "outlinewidth": 0,
             "ticks": ""
            },
            "colorscale": [
             [
              0,
              "#0d0887"
             ],
             [
              0.1111111111111111,
              "#46039f"
             ],
             [
              0.2222222222222222,
              "#7201a8"
             ],
             [
              0.3333333333333333,
              "#9c179e"
             ],
             [
              0.4444444444444444,
              "#bd3786"
             ],
             [
              0.5555555555555556,
              "#d8576b"
             ],
             [
              0.6666666666666666,
              "#ed7953"
             ],
             [
              0.7777777777777778,
              "#fb9f3a"
             ],
             [
              0.8888888888888888,
              "#fdca26"
             ],
             [
              1,
              "#f0f921"
             ]
            ],
            "type": "heatmap"
           }
          ],
          "heatmapgl": [
           {
            "colorbar": {
             "outlinewidth": 0,
             "ticks": ""
            },
            "colorscale": [
             [
              0,
              "#0d0887"
             ],
             [
              0.1111111111111111,
              "#46039f"
             ],
             [
              0.2222222222222222,
              "#7201a8"
             ],
             [
              0.3333333333333333,
              "#9c179e"
             ],
             [
              0.4444444444444444,
              "#bd3786"
             ],
             [
              0.5555555555555556,
              "#d8576b"
             ],
             [
              0.6666666666666666,
              "#ed7953"
             ],
             [
              0.7777777777777778,
              "#fb9f3a"
             ],
             [
              0.8888888888888888,
              "#fdca26"
             ],
             [
              1,
              "#f0f921"
             ]
            ],
            "type": "heatmapgl"
           }
          ],
          "histogram": [
           {
            "marker": {
             "pattern": {
              "fillmode": "overlay",
              "size": 10,
              "solidity": 0.2
             }
            },
            "type": "histogram"
           }
          ],
          "histogram2d": [
           {
            "colorbar": {
             "outlinewidth": 0,
             "ticks": ""
            },
            "colorscale": [
             [
              0,
              "#0d0887"
             ],
             [
              0.1111111111111111,
              "#46039f"
             ],
             [
              0.2222222222222222,
              "#7201a8"
             ],
             [
              0.3333333333333333,
              "#9c179e"
             ],
             [
              0.4444444444444444,
              "#bd3786"
             ],
             [
              0.5555555555555556,
              "#d8576b"
             ],
             [
              0.6666666666666666,
              "#ed7953"
             ],
             [
              0.7777777777777778,
              "#fb9f3a"
             ],
             [
              0.8888888888888888,
              "#fdca26"
             ],
             [
              1,
              "#f0f921"
             ]
            ],
            "type": "histogram2d"
           }
          ],
          "histogram2dcontour": [
           {
            "colorbar": {
             "outlinewidth": 0,
             "ticks": ""
            },
            "colorscale": [
             [
              0,
              "#0d0887"
             ],
             [
              0.1111111111111111,
              "#46039f"
             ],
             [
              0.2222222222222222,
              "#7201a8"
             ],
             [
              0.3333333333333333,
              "#9c179e"
             ],
             [
              0.4444444444444444,
              "#bd3786"
             ],
             [
              0.5555555555555556,
              "#d8576b"
             ],
             [
              0.6666666666666666,
              "#ed7953"
             ],
             [
              0.7777777777777778,
              "#fb9f3a"
             ],
             [
              0.8888888888888888,
              "#fdca26"
             ],
             [
              1,
              "#f0f921"
             ]
            ],
            "type": "histogram2dcontour"
           }
          ],
          "mesh3d": [
           {
            "colorbar": {
             "outlinewidth": 0,
             "ticks": ""
            },
            "type": "mesh3d"
           }
          ],
          "parcoords": [
           {
            "line": {
             "colorbar": {
              "outlinewidth": 0,
              "ticks": ""
             }
            },
            "type": "parcoords"
           }
          ],
          "pie": [
           {
            "automargin": true,
            "type": "pie"
           }
          ],
          "scatter": [
           {
            "fillpattern": {
             "fillmode": "overlay",
             "size": 10,
             "solidity": 0.2
            },
            "type": "scatter"
           }
          ],
          "scatter3d": [
           {
            "line": {
             "colorbar": {
              "outlinewidth": 0,
              "ticks": ""
             }
            },
            "marker": {
             "colorbar": {
              "outlinewidth": 0,
              "ticks": ""
             }
            },
            "type": "scatter3d"
           }
          ],
          "scattercarpet": [
           {
            "marker": {
             "colorbar": {
              "outlinewidth": 0,
              "ticks": ""
             }
            },
            "type": "scattercarpet"
           }
          ],
          "scattergeo": [
           {
            "marker": {
             "colorbar": {
              "outlinewidth": 0,
              "ticks": ""
             }
            },
            "type": "scattergeo"
           }
          ],
          "scattergl": [
           {
            "marker": {
             "colorbar": {
              "outlinewidth": 0,
              "ticks": ""
             }
            },
            "type": "scattergl"
           }
          ],
          "scattermapbox": [
           {
            "marker": {
             "colorbar": {
              "outlinewidth": 0,
              "ticks": ""
             }
            },
            "type": "scattermapbox"
           }
          ],
          "scatterpolar": [
           {
            "marker": {
             "colorbar": {
              "outlinewidth": 0,
              "ticks": ""
             }
            },
            "type": "scatterpolar"
           }
          ],
          "scatterpolargl": [
           {
            "marker": {
             "colorbar": {
              "outlinewidth": 0,
              "ticks": ""
             }
            },
            "type": "scatterpolargl"
           }
          ],
          "scatterternary": [
           {
            "marker": {
             "colorbar": {
              "outlinewidth": 0,
              "ticks": ""
             }
            },
            "type": "scatterternary"
           }
          ],
          "surface": [
           {
            "colorbar": {
             "outlinewidth": 0,
             "ticks": ""
            },
            "colorscale": [
             [
              0,
              "#0d0887"
             ],
             [
              0.1111111111111111,
              "#46039f"
             ],
             [
              0.2222222222222222,
              "#7201a8"
             ],
             [
              0.3333333333333333,
              "#9c179e"
             ],
             [
              0.4444444444444444,
              "#bd3786"
             ],
             [
              0.5555555555555556,
              "#d8576b"
             ],
             [
              0.6666666666666666,
              "#ed7953"
             ],
             [
              0.7777777777777778,
              "#fb9f3a"
             ],
             [
              0.8888888888888888,
              "#fdca26"
             ],
             [
              1,
              "#f0f921"
             ]
            ],
            "type": "surface"
           }
          ],
          "table": [
           {
            "cells": {
             "fill": {
              "color": "#EBF0F8"
             },
             "line": {
              "color": "white"
             }
            },
            "header": {
             "fill": {
              "color": "#C8D4E3"
             },
             "line": {
              "color": "white"
             }
            },
            "type": "table"
           }
          ]
         },
         "layout": {
          "annotationdefaults": {
           "arrowcolor": "#2a3f5f",
           "arrowhead": 0,
           "arrowwidth": 1
          },
          "autotypenumbers": "strict",
          "coloraxis": {
           "colorbar": {
            "outlinewidth": 0,
            "ticks": ""
           }
          },
          "colorscale": {
           "diverging": [
            [
             0,
             "#8e0152"
            ],
            [
             0.1,
             "#c51b7d"
            ],
            [
             0.2,
             "#de77ae"
            ],
            [
             0.3,
             "#f1b6da"
            ],
            [
             0.4,
             "#fde0ef"
            ],
            [
             0.5,
             "#f7f7f7"
            ],
            [
             0.6,
             "#e6f5d0"
            ],
            [
             0.7,
             "#b8e186"
            ],
            [
             0.8,
             "#7fbc41"
            ],
            [
             0.9,
             "#4d9221"
            ],
            [
             1,
             "#276419"
            ]
           ],
           "sequential": [
            [
             0,
             "#0d0887"
            ],
            [
             0.1111111111111111,
             "#46039f"
            ],
            [
             0.2222222222222222,
             "#7201a8"
            ],
            [
             0.3333333333333333,
             "#9c179e"
            ],
            [
             0.4444444444444444,
             "#bd3786"
            ],
            [
             0.5555555555555556,
             "#d8576b"
            ],
            [
             0.6666666666666666,
             "#ed7953"
            ],
            [
             0.7777777777777778,
             "#fb9f3a"
            ],
            [
             0.8888888888888888,
             "#fdca26"
            ],
            [
             1,
             "#f0f921"
            ]
           ],
           "sequentialminus": [
            [
             0,
             "#0d0887"
            ],
            [
             0.1111111111111111,
             "#46039f"
            ],
            [
             0.2222222222222222,
             "#7201a8"
            ],
            [
             0.3333333333333333,
             "#9c179e"
            ],
            [
             0.4444444444444444,
             "#bd3786"
            ],
            [
             0.5555555555555556,
             "#d8576b"
            ],
            [
             0.6666666666666666,
             "#ed7953"
            ],
            [
             0.7777777777777778,
             "#fb9f3a"
            ],
            [
             0.8888888888888888,
             "#fdca26"
            ],
            [
             1,
             "#f0f921"
            ]
           ]
          },
          "colorway": [
           "#636efa",
           "#EF553B",
           "#00cc96",
           "#ab63fa",
           "#FFA15A",
           "#19d3f3",
           "#FF6692",
           "#B6E880",
           "#FF97FF",
           "#FECB52"
          ],
          "font": {
           "color": "#2a3f5f"
          },
          "geo": {
           "bgcolor": "white",
           "lakecolor": "white",
           "landcolor": "#E5ECF6",
           "showlakes": true,
           "showland": true,
           "subunitcolor": "white"
          },
          "hoverlabel": {
           "align": "left"
          },
          "hovermode": "closest",
          "mapbox": {
           "style": "light"
          },
          "paper_bgcolor": "white",
          "plot_bgcolor": "#E5ECF6",
          "polar": {
           "angularaxis": {
            "gridcolor": "white",
            "linecolor": "white",
            "ticks": ""
           },
           "bgcolor": "#E5ECF6",
           "radialaxis": {
            "gridcolor": "white",
            "linecolor": "white",
            "ticks": ""
           }
          },
          "scene": {
           "xaxis": {
            "backgroundcolor": "#E5ECF6",
            "gridcolor": "white",
            "gridwidth": 2,
            "linecolor": "white",
            "showbackground": true,
            "ticks": "",
            "zerolinecolor": "white"
           },
           "yaxis": {
            "backgroundcolor": "#E5ECF6",
            "gridcolor": "white",
            "gridwidth": 2,
            "linecolor": "white",
            "showbackground": true,
            "ticks": "",
            "zerolinecolor": "white"
           },
           "zaxis": {
            "backgroundcolor": "#E5ECF6",
            "gridcolor": "white",
            "gridwidth": 2,
            "linecolor": "white",
            "showbackground": true,
            "ticks": "",
            "zerolinecolor": "white"
           }
          },
          "shapedefaults": {
           "line": {
            "color": "#2a3f5f"
           }
          },
          "ternary": {
           "aaxis": {
            "gridcolor": "white",
            "linecolor": "white",
            "ticks": ""
           },
           "baxis": {
            "gridcolor": "white",
            "linecolor": "white",
            "ticks": ""
           },
           "bgcolor": "#E5ECF6",
           "caxis": {
            "gridcolor": "white",
            "linecolor": "white",
            "ticks": ""
           }
          },
          "title": {
           "x": 0.05
          },
          "xaxis": {
           "automargin": true,
           "gridcolor": "white",
           "linecolor": "white",
           "ticks": "",
           "title": {
            "standoff": 15
           },
           "zerolinecolor": "white",
           "zerolinewidth": 2
          },
          "yaxis": {
           "automargin": true,
           "gridcolor": "white",
           "linecolor": "white",
           "ticks": "",
           "title": {
            "standoff": 15
           },
           "zerolinecolor": "white",
           "zerolinewidth": 2
          }
         }
        },
        "title": {
         "text": "Histogram for Column1 and Column2"
        },
        "xaxis": {
         "anchor": "y",
         "domain": [
          0,
          0.49
         ],
         "title": {
          "text": "Agent Name"
         }
        },
        "xaxis2": {
         "anchor": "y2",
         "domain": [
          0.51,
          1
         ],
         "matches": "x",
         "title": {
          "text": "Agent Name"
         }
        },
        "yaxis": {
         "anchor": "x",
         "domain": [
          0,
          1
         ],
         "title": {
          "text": "sum of Value"
         }
        },
        "yaxis2": {
         "anchor": "x2",
         "domain": [
          0,
          1
         ],
         "matches": "y",
         "showticklabels": false
        }
       }
      },
      "text/html": [
       "<div>                            <div id=\"d2f6b029-446f-4adf-a967-dbf78844b71f\" class=\"plotly-graph-div\" style=\"height:525px; width:100%;\"></div>            <script type=\"text/javascript\">                require([\"plotly\"], function(Plotly) {                    window.PLOTLYENV=window.PLOTLYENV || {};                                    if (document.getElementById(\"d2f6b029-446f-4adf-a967-dbf78844b71f\")) {                    Plotly.newPlot(                        \"d2f6b029-446f-4adf-a967-dbf78844b71f\",                        [{\"alignmentgroup\":\"True\",\"bingroup\":\"x\",\"histfunc\":\"sum\",\"hovertemplate\":\"Columns=Avg<br>Agent Name=%{x}<br>sum of Value=%{y}<extra></extra>\",\"legendgroup\":\"Avg\",\"marker\":{\"color\":\"#636efa\",\"opacity\":0.7,\"pattern\":{\"shape\":\"\"}},\"name\":\"Avg\",\"offsetgroup\":\"Avg\",\"orientation\":\"v\",\"showlegend\":true,\"x\":[\"R1R1\",\"R1R2\",\"R2R1\",\"R2R2\",\"Random\"],\"xaxis\":\"x\",\"y\":[44.68949999997858,1066.0981999999883,1362.4393333333621,777.8723500000342,901.7345124999993],\"yaxis\":\"y\",\"type\":\"histogram\"},{\"alignmentgroup\":\"True\",\"bingroup\":\"x\",\"histfunc\":\"sum\",\"hovertemplate\":\"Columns=SD<br>Agent Name=%{x}<br>sum of Value=%{y}<extra></extra>\",\"legendgroup\":\"SD\",\"marker\":{\"color\":\"#EF553B\",\"opacity\":0.7,\"pattern\":{\"shape\":\"\"}},\"name\":\"SD\",\"offsetgroup\":\"SD\",\"orientation\":\"v\",\"showlegend\":true,\"x\":[\"R1R1\",\"R1R2\",\"R2R1\",\"R2R2\",\"Random\"],\"xaxis\":\"x2\",\"y\":[1821.5468077376433,706.1952727186119,50.60725018064628,980.6437566441526,1160.7540052327881],\"yaxis\":\"y2\",\"type\":\"histogram\"}],                        {\"template\":{\"data\":{\"histogram2dcontour\":[{\"type\":\"histogram2dcontour\",\"colorbar\":{\"outlinewidth\":0,\"ticks\":\"\"},\"colorscale\":[[0.0,\"#0d0887\"],[0.1111111111111111,\"#46039f\"],[0.2222222222222222,\"#7201a8\"],[0.3333333333333333,\"#9c179e\"],[0.4444444444444444,\"#bd3786\"],[0.5555555555555556,\"#d8576b\"],[0.6666666666666666,\"#ed7953\"],[0.7777777777777778,\"#fb9f3a\"],[0.8888888888888888,\"#fdca26\"],[1.0,\"#f0f921\"]]}],\"choropleth\":[{\"type\":\"choropleth\",\"colorbar\":{\"outlinewidth\":0,\"ticks\":\"\"}}],\"histogram2d\":[{\"type\":\"histogram2d\",\"colorbar\":{\"outlinewidth\":0,\"ticks\":\"\"},\"colorscale\":[[0.0,\"#0d0887\"],[0.1111111111111111,\"#46039f\"],[0.2222222222222222,\"#7201a8\"],[0.3333333333333333,\"#9c179e\"],[0.4444444444444444,\"#bd3786\"],[0.5555555555555556,\"#d8576b\"],[0.6666666666666666,\"#ed7953\"],[0.7777777777777778,\"#fb9f3a\"],[0.8888888888888888,\"#fdca26\"],[1.0,\"#f0f921\"]]}],\"heatmap\":[{\"type\":\"heatmap\",\"colorbar\":{\"outlinewidth\":0,\"ticks\":\"\"},\"colorscale\":[[0.0,\"#0d0887\"],[0.1111111111111111,\"#46039f\"],[0.2222222222222222,\"#7201a8\"],[0.3333333333333333,\"#9c179e\"],[0.4444444444444444,\"#bd3786\"],[0.5555555555555556,\"#d8576b\"],[0.6666666666666666,\"#ed7953\"],[0.7777777777777778,\"#fb9f3a\"],[0.8888888888888888,\"#fdca26\"],[1.0,\"#f0f921\"]]}],\"heatmapgl\":[{\"type\":\"heatmapgl\",\"colorbar\":{\"outlinewidth\":0,\"ticks\":\"\"},\"colorscale\":[[0.0,\"#0d0887\"],[0.1111111111111111,\"#46039f\"],[0.2222222222222222,\"#7201a8\"],[0.3333333333333333,\"#9c179e\"],[0.4444444444444444,\"#bd3786\"],[0.5555555555555556,\"#d8576b\"],[0.6666666666666666,\"#ed7953\"],[0.7777777777777778,\"#fb9f3a\"],[0.8888888888888888,\"#fdca26\"],[1.0,\"#f0f921\"]]}],\"contourcarpet\":[{\"type\":\"contourcarpet\",\"colorbar\":{\"outlinewidth\":0,\"ticks\":\"\"}}],\"contour\":[{\"type\":\"contour\",\"colorbar\":{\"outlinewidth\":0,\"ticks\":\"\"},\"colorscale\":[[0.0,\"#0d0887\"],[0.1111111111111111,\"#46039f\"],[0.2222222222222222,\"#7201a8\"],[0.3333333333333333,\"#9c179e\"],[0.4444444444444444,\"#bd3786\"],[0.5555555555555556,\"#d8576b\"],[0.6666666666666666,\"#ed7953\"],[0.7777777777777778,\"#fb9f3a\"],[0.8888888888888888,\"#fdca26\"],[1.0,\"#f0f921\"]]}],\"surface\":[{\"type\":\"surface\",\"colorbar\":{\"outlinewidth\":0,\"ticks\":\"\"},\"colorscale\":[[0.0,\"#0d0887\"],[0.1111111111111111,\"#46039f\"],[0.2222222222222222,\"#7201a8\"],[0.3333333333333333,\"#9c179e\"],[0.4444444444444444,\"#bd3786\"],[0.5555555555555556,\"#d8576b\"],[0.6666666666666666,\"#ed7953\"],[0.7777777777777778,\"#fb9f3a\"],[0.8888888888888888,\"#fdca26\"],[1.0,\"#f0f921\"]]}],\"mesh3d\":[{\"type\":\"mesh3d\",\"colorbar\":{\"outlinewidth\":0,\"ticks\":\"\"}}],\"scatter\":[{\"fillpattern\":{\"fillmode\":\"overlay\",\"size\":10,\"solidity\":0.2},\"type\":\"scatter\"}],\"parcoords\":[{\"type\":\"parcoords\",\"line\":{\"colorbar\":{\"outlinewidth\":0,\"ticks\":\"\"}}}],\"scatterpolargl\":[{\"type\":\"scatterpolargl\",\"marker\":{\"colorbar\":{\"outlinewidth\":0,\"ticks\":\"\"}}}],\"bar\":[{\"error_x\":{\"color\":\"#2a3f5f\"},\"error_y\":{\"color\":\"#2a3f5f\"},\"marker\":{\"line\":{\"color\":\"#E5ECF6\",\"width\":0.5},\"pattern\":{\"fillmode\":\"overlay\",\"size\":10,\"solidity\":0.2}},\"type\":\"bar\"}],\"scattergeo\":[{\"type\":\"scattergeo\",\"marker\":{\"colorbar\":{\"outlinewidth\":0,\"ticks\":\"\"}}}],\"scatterpolar\":[{\"type\":\"scatterpolar\",\"marker\":{\"colorbar\":{\"outlinewidth\":0,\"ticks\":\"\"}}}],\"histogram\":[{\"marker\":{\"pattern\":{\"fillmode\":\"overlay\",\"size\":10,\"solidity\":0.2}},\"type\":\"histogram\"}],\"scattergl\":[{\"type\":\"scattergl\",\"marker\":{\"colorbar\":{\"outlinewidth\":0,\"ticks\":\"\"}}}],\"scatter3d\":[{\"type\":\"scatter3d\",\"line\":{\"colorbar\":{\"outlinewidth\":0,\"ticks\":\"\"}},\"marker\":{\"colorbar\":{\"outlinewidth\":0,\"ticks\":\"\"}}}],\"scattermapbox\":[{\"type\":\"scattermapbox\",\"marker\":{\"colorbar\":{\"outlinewidth\":0,\"ticks\":\"\"}}}],\"scatterternary\":[{\"type\":\"scatterternary\",\"marker\":{\"colorbar\":{\"outlinewidth\":0,\"ticks\":\"\"}}}],\"scattercarpet\":[{\"type\":\"scattercarpet\",\"marker\":{\"colorbar\":{\"outlinewidth\":0,\"ticks\":\"\"}}}],\"carpet\":[{\"aaxis\":{\"endlinecolor\":\"#2a3f5f\",\"gridcolor\":\"white\",\"linecolor\":\"white\",\"minorgridcolor\":\"white\",\"startlinecolor\":\"#2a3f5f\"},\"baxis\":{\"endlinecolor\":\"#2a3f5f\",\"gridcolor\":\"white\",\"linecolor\":\"white\",\"minorgridcolor\":\"white\",\"startlinecolor\":\"#2a3f5f\"},\"type\":\"carpet\"}],\"table\":[{\"cells\":{\"fill\":{\"color\":\"#EBF0F8\"},\"line\":{\"color\":\"white\"}},\"header\":{\"fill\":{\"color\":\"#C8D4E3\"},\"line\":{\"color\":\"white\"}},\"type\":\"table\"}],\"barpolar\":[{\"marker\":{\"line\":{\"color\":\"#E5ECF6\",\"width\":0.5},\"pattern\":{\"fillmode\":\"overlay\",\"size\":10,\"solidity\":0.2}},\"type\":\"barpolar\"}],\"pie\":[{\"automargin\":true,\"type\":\"pie\"}]},\"layout\":{\"autotypenumbers\":\"strict\",\"colorway\":[\"#636efa\",\"#EF553B\",\"#00cc96\",\"#ab63fa\",\"#FFA15A\",\"#19d3f3\",\"#FF6692\",\"#B6E880\",\"#FF97FF\",\"#FECB52\"],\"font\":{\"color\":\"#2a3f5f\"},\"hovermode\":\"closest\",\"hoverlabel\":{\"align\":\"left\"},\"paper_bgcolor\":\"white\",\"plot_bgcolor\":\"#E5ECF6\",\"polar\":{\"bgcolor\":\"#E5ECF6\",\"angularaxis\":{\"gridcolor\":\"white\",\"linecolor\":\"white\",\"ticks\":\"\"},\"radialaxis\":{\"gridcolor\":\"white\",\"linecolor\":\"white\",\"ticks\":\"\"}},\"ternary\":{\"bgcolor\":\"#E5ECF6\",\"aaxis\":{\"gridcolor\":\"white\",\"linecolor\":\"white\",\"ticks\":\"\"},\"baxis\":{\"gridcolor\":\"white\",\"linecolor\":\"white\",\"ticks\":\"\"},\"caxis\":{\"gridcolor\":\"white\",\"linecolor\":\"white\",\"ticks\":\"\"}},\"coloraxis\":{\"colorbar\":{\"outlinewidth\":0,\"ticks\":\"\"}},\"colorscale\":{\"sequential\":[[0.0,\"#0d0887\"],[0.1111111111111111,\"#46039f\"],[0.2222222222222222,\"#7201a8\"],[0.3333333333333333,\"#9c179e\"],[0.4444444444444444,\"#bd3786\"],[0.5555555555555556,\"#d8576b\"],[0.6666666666666666,\"#ed7953\"],[0.7777777777777778,\"#fb9f3a\"],[0.8888888888888888,\"#fdca26\"],[1.0,\"#f0f921\"]],\"sequentialminus\":[[0.0,\"#0d0887\"],[0.1111111111111111,\"#46039f\"],[0.2222222222222222,\"#7201a8\"],[0.3333333333333333,\"#9c179e\"],[0.4444444444444444,\"#bd3786\"],[0.5555555555555556,\"#d8576b\"],[0.6666666666666666,\"#ed7953\"],[0.7777777777777778,\"#fb9f3a\"],[0.8888888888888888,\"#fdca26\"],[1.0,\"#f0f921\"]],\"diverging\":[[0,\"#8e0152\"],[0.1,\"#c51b7d\"],[0.2,\"#de77ae\"],[0.3,\"#f1b6da\"],[0.4,\"#fde0ef\"],[0.5,\"#f7f7f7\"],[0.6,\"#e6f5d0\"],[0.7,\"#b8e186\"],[0.8,\"#7fbc41\"],[0.9,\"#4d9221\"],[1,\"#276419\"]]},\"xaxis\":{\"gridcolor\":\"white\",\"linecolor\":\"white\",\"ticks\":\"\",\"title\":{\"standoff\":15},\"zerolinecolor\":\"white\",\"automargin\":true,\"zerolinewidth\":2},\"yaxis\":{\"gridcolor\":\"white\",\"linecolor\":\"white\",\"ticks\":\"\",\"title\":{\"standoff\":15},\"zerolinecolor\":\"white\",\"automargin\":true,\"zerolinewidth\":2},\"scene\":{\"xaxis\":{\"backgroundcolor\":\"#E5ECF6\",\"gridcolor\":\"white\",\"linecolor\":\"white\",\"showbackground\":true,\"ticks\":\"\",\"zerolinecolor\":\"white\",\"gridwidth\":2},\"yaxis\":{\"backgroundcolor\":\"#E5ECF6\",\"gridcolor\":\"white\",\"linecolor\":\"white\",\"showbackground\":true,\"ticks\":\"\",\"zerolinecolor\":\"white\",\"gridwidth\":2},\"zaxis\":{\"backgroundcolor\":\"#E5ECF6\",\"gridcolor\":\"white\",\"linecolor\":\"white\",\"showbackground\":true,\"ticks\":\"\",\"zerolinecolor\":\"white\",\"gridwidth\":2}},\"shapedefaults\":{\"line\":{\"color\":\"#2a3f5f\"}},\"annotationdefaults\":{\"arrowcolor\":\"#2a3f5f\",\"arrowhead\":0,\"arrowwidth\":1},\"geo\":{\"bgcolor\":\"white\",\"landcolor\":\"#E5ECF6\",\"subunitcolor\":\"white\",\"showland\":true,\"showlakes\":true,\"lakecolor\":\"white\"},\"title\":{\"x\":0.05},\"mapbox\":{\"style\":\"light\"}}},\"xaxis\":{\"anchor\":\"y\",\"domain\":[0.0,0.49],\"title\":{\"text\":\"Agent Name\"}},\"yaxis\":{\"anchor\":\"x\",\"domain\":[0.0,1.0],\"title\":{\"text\":\"sum of Value\"}},\"xaxis2\":{\"anchor\":\"y2\",\"domain\":[0.51,1.0],\"matches\":\"x\",\"title\":{\"text\":\"Agent Name\"}},\"yaxis2\":{\"anchor\":\"x2\",\"domain\":[0.0,1.0],\"matches\":\"y\",\"showticklabels\":false},\"annotations\":[{\"font\":{},\"showarrow\":false,\"text\":\"Columns=Avg\",\"x\":0.245,\"xanchor\":\"center\",\"xref\":\"paper\",\"y\":1.0,\"yanchor\":\"bottom\",\"yref\":\"paper\"},{\"font\":{},\"showarrow\":false,\"text\":\"Columns=SD\",\"x\":0.755,\"xanchor\":\"center\",\"xref\":\"paper\",\"y\":1.0,\"yanchor\":\"bottom\",\"yref\":\"paper\"}],\"legend\":{\"title\":{\"text\":\"Columns\"},\"tracegroupgap\":0},\"title\":{\"text\":\"Histogram for Column1 and Column2\"},\"barmode\":\"overlay\"},                        {\"responsive\": true}                    ).then(function(){\n",
       "                            \n",
       "var gd = document.getElementById('d2f6b029-446f-4adf-a967-dbf78844b71f');\n",
       "var x = new MutationObserver(function (mutations, observer) {{\n",
       "        var display = window.getComputedStyle(gd).display;\n",
       "        if (!display || display === 'none') {{\n",
       "            console.log([gd, 'removed!']);\n",
       "            Plotly.purge(gd);\n",
       "            observer.disconnect();\n",
       "        }}\n",
       "}});\n",
       "\n",
       "// Listen for the removal of the full notebook cells\n",
       "var notebookContainer = gd.closest('#notebook-container');\n",
       "if (notebookContainer) {{\n",
       "    x.observe(notebookContainer, {childList: true});\n",
       "}}\n",
       "\n",
       "// Listen for the clearing of the current output cell\n",
       "var outputEl = gd.closest('.output');\n",
       "if (outputEl) {{\n",
       "    x.observe(outputEl, {childList: true});\n",
       "}}\n",
       "\n",
       "                        })                };                });            </script>        </div>"
      ]
     },
     "metadata": {},
     "output_type": "display_data"
    }
   ],
   "source": [
    "print('TOV')\n",
    "summary_TOV = pd.DataFrame({\n",
    "    'Agent Name': ['R1R1','R1R2','R2R1', 'R2R2', 'Random'],\n",
    "    'Avg': [results_chartist_R1R1__best_n_df.mean(numeric_only=True)['TOV'],\n",
    "           results_chartist_R1R2__best_n_df.mean(numeric_only=True)['TOV'],\n",
    "           results_chartist_R2R1__best_n_df.mean(numeric_only=True)['TOV'],\n",
    "           results_chartist_R2R2__best_n_df.mean(numeric_only=True)['TOV'],\n",
    "           results_random_best_n_df.mean(numeric_only=True)['TOV']],\n",
    "    'SD': [results_chartist_R1R1__best_n_df.std(numeric_only=True)['TOV'],\n",
    "           results_chartist_R1R2__best_n_df.std(numeric_only=True)['TOV'],\n",
    "           results_chartist_R2R1__best_n_df.std(numeric_only=True)['TOV'],\n",
    "           results_chartist_R2R2__best_n_df.std(numeric_only=True)['TOV'], \n",
    "           results_random_best_n_df.std(numeric_only=True)['TOV']]\n",
    "})\n",
    "print(summary_TOV)\n",
    "\n",
    "fig = px.histogram(summary_TOV, x=\"Agent Name\" , y=[\"Avg\", \"SD\"], opacity=0.7, barmode='overlay',\n",
    "                   facet_col='variable',\n",
    "                   title='Histogram for Column1 and Column2',\n",
    "                   labels={'value': 'Value', 'variable': 'Columns'})\n",
    "\n",
    "fig.show()"
   ]
  },
  {
   "cell_type": "code",
   "execution_count": 283,
   "id": "519d22b1",
   "metadata": {},
   "outputs": [
    {
     "name": "stdout",
     "output_type": "stream",
     "text": [
      "Open Position\n",
      "  Agent Name  Avg        SD\n",
      "0       R1R1  1.0  0.000000\n",
      "1       R1R2  0.0  0.000000\n",
      "2       R2R1  0.0  0.000000\n",
      "3       R2R2  0.5  1.000000\n",
      "4     Random  1.5  1.603567\n"
     ]
    }
   ],
   "source": [
    "print('Open Position')\n",
    "summary_open_pos = pd.DataFrame({\n",
    "    'Agent Name': ['R1R1','R1R2','R2R1', 'R2R2', 'Random'],\n",
    "    'Avg': [results_chartist_R1R1__best_n_df.mean(numeric_only=True)['Open_R1R1'],\n",
    "           results_chartist_R1R2__best_n_df.mean(numeric_only=True)['Open_R1R2'],\n",
    "           results_chartist_R2R1__best_n_df.mean(numeric_only=True)['Open_R2R1'],\n",
    "           results_chartist_R2R2__best_n_df.mean(numeric_only=True)['Open_R2R2'],\n",
    "           results_random_best_n_df.mean(numeric_only=True)['Open_Random']],\n",
    "    'SD': [results_chartist_R1R1__best_n_df.std(numeric_only=True)['Open_R1R1'],\n",
    "           results_chartist_R1R2__best_n_df.std(numeric_only=True)['Open_R1R2'],\n",
    "           results_chartist_R2R1__best_n_df.std(numeric_only=True)['Open_R2R1'],\n",
    "           results_chartist_R2R2__best_n_df.std(numeric_only=True)['Open_R2R2'], \n",
    "           results_random_best_n_df.std(numeric_only=True)['Open_Random']]\n",
    "}).set_index(\"Agent Name\", inplace = True)\n",
    "print(summary_open_pos)"
   ]
  },
  {
   "cell_type": "code",
   "execution_count": 284,
   "id": "5436a177",
   "metadata": {},
   "outputs": [
    {
     "name": "stdout",
     "output_type": "stream",
     "text": [
      "Ratio Bitcoin vs Fiat\n",
      "  Agent Name         Avg           SD\n",
      "0       R1R1  168.840000   238.775818\n",
      "1       R1R2   55.956667    96.919790\n",
      "2       R2R1   84.380000   146.150447\n",
      "3       R2R2   41.967500    83.935000\n",
      "4     Random  531.630000  1048.536489\n"
     ]
    }
   ],
   "source": [
    "print('Ratio Bitcoin vs Fiat')\n",
    "summary_ratio = pd.DataFrame({\n",
    "    'Agent Name': ['R1R1','R1R2','R2R1', 'R2R2', 'Random'],\n",
    "    'Avg': [results_chartist_R1R1__best_n_df.mean(numeric_only=True)['RBF'],\n",
    "           results_chartist_R1R2__best_n_df.mean(numeric_only=True)['RBF'],\n",
    "           results_chartist_R2R1__best_n_df.mean(numeric_only=True)['RBF'],\n",
    "           results_chartist_R2R2__best_n_df.mean(numeric_only=True)['RBF'],\n",
    "           results_random_best_n_df.mean(numeric_only=True)['RBF']],\n",
    "    'SD': [results_chartist_R1R1__best_n_df.std(numeric_only=True)['RBF'],\n",
    "           results_chartist_R1R2__best_n_df.std(numeric_only=True)['RBF'],\n",
    "           results_chartist_R2R1__best_n_df.std(numeric_only=True)['RBF'],\n",
    "           results_chartist_R2R2__best_n_df.std(numeric_only=True)['RBF'], \n",
    "           results_random_best_n_df.std(numeric_only=True)['RBF']]\n",
    "}).set_index(\"Agent Name\", inplace = True)\n",
    "print(summary_ratio)"
   ]
  },
  {
   "cell_type": "code",
   "execution_count": null,
   "id": "f3bde2a8",
   "metadata": {},
   "outputs": [],
   "source": [
    "# results_price_df = results_df[(results_df.iteration == 0)]\n",
    "results_price_df = results_df.copy()\n",
    "results_price_df = results_price_df.loc[:,[\"iteration\", \"Step\", \"Price\"]]\n",
    "results_price_df = results_price_df.groupby(['iteration', 'Step']).max()['Price']\n",
    "results_price_df = results_price_df.groupby([\"Step\"]).mean()\n",
    "print(results_price_df.groupby([\"Step\"]).mean())\n",
    "\n",
    "fig = px.line(results_price_df, y = 'Price', title = 'Price', markers = True)\n",
    "\n",
    "fig.show()"
   ]
  },
  {
   "cell_type": "code",
   "execution_count": null,
   "id": "90edcebc",
   "metadata": {},
   "outputs": [],
   "source": [
    "total_bitcoin = 10000\n",
    "total_fiat = 5000000\n",
    "\n",
    "# Agents Parameters\n",
    "number_of_agents = 5 # In 2020, there are 420M users\n",
    "chartist_day_reference = 3\n",
    "chartist_ratio = 0.5\n",
    "\n",
    "price_start = 5614\n",
    "\n",
    "model = BitcoinMarketModel(price_start, \n",
    "                           number_of_agents, \n",
    "                           total_fiat, \n",
    "                           total_bitcoin, \n",
    "                           chartist_ratio, \n",
    "                           chartist_day_reference)\n",
    "\n",
    "for i in range(10):\n",
    "#     print(f'progress : {i}/1399')\n",
    "    model.step()\n",
    "    \n",
    "data = model.datacollector.get_model_vars_dataframe()\n",
    "\n",
    "price_df = pd.DataFrame(data=data.Price)\n",
    "fig = px.line(price_df, y = 'Price', title = 'Price', markers = True)\n",
    "\n",
    "fig.show()\n",
    "\n",
    "agent_variables = model.datacollector.get_agent_vars_dataframe()\n",
    "end_state = agent_variables.index.get_level_values(\"Step\").max()\n",
    "end_state_total_value = agent_variables.xs(end_state, level=\"Step\")[\"TV\"]\n",
    "agents_total_value_df = pd.DataFrame(data=end_state_total_value)\n",
    "\n",
    "# # Create a histogram of wealth at the last step\n",
    "counts, bins = np.histogram(agents_total_value_df, bins=range(0, 5000000, 1000000))\n",
    "bins = 0.5 * (bins[:-1] + bins[1:])\n",
    "\n",
    "fig = px.bar(x=bins, y=counts, labels={'x':'total_values', 'y':'count'})\n",
    "fig.show()"
   ]
  }
 ],
 "metadata": {
  "kernelspec": {
   "display_name": "Python 3 (ipykernel)",
   "language": "python",
   "name": "python3"
  },
  "language_info": {
   "codemirror_mode": {
    "name": "ipython",
    "version": 3
   },
   "file_extension": ".py",
   "mimetype": "text/x-python",
   "name": "python",
   "nbconvert_exporter": "python",
   "pygments_lexer": "ipython3",
   "version": "3.11.4"
  }
 },
 "nbformat": 4,
 "nbformat_minor": 5
}
